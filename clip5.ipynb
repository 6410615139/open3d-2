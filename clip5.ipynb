{
 "cells": [
  {
   "cell_type": "code",
   "execution_count": 12,
   "id": "9f8e3042-8fe4-4dd2-8710-7cc96bd38e86",
   "metadata": {},
   "outputs": [
    {
     "name": "stdout",
     "output_type": "stream",
     "text": [
      "0.18.0\n"
     ]
    }
   ],
   "source": [
    "import open3d as o3d\n",
    "print(o3d.__version__)\n",
    "import numpy as np\n",
    "import matplotlib.pyplot as plt\n",
    "import polars as pl"
   ]
  },
  {
   "cell_type": "code",
   "execution_count": 2,
   "id": "765a6754-89e8-4511-a552-f949e0fa0748",
   "metadata": {},
   "outputs": [],
   "source": [
    "path_kota_circuit2_ply = \"Dataset/kota_circuit2.ply\""
   ]
  },
  {
   "cell_type": "code",
   "execution_count": 3,
   "id": "98de40de-aae6-4243-aa43-e3e7d6e51f29",
   "metadata": {},
   "outputs": [
    {
     "name": "stdout",
     "output_type": "stream",
     "text": [
      "pcd:\n",
      " PointCloud with 14640197 points.\n"
     ]
    }
   ],
   "source": [
    "pcd = o3d.io.read_point_cloud(path_kota_circuit2_ply)\n",
    "print(\"pcd:\\n\",pcd)"
   ]
  },
  {
   "cell_type": "code",
   "execution_count": 9,
   "id": "19f65a08-a157-4674-a1c2-05760bb07f6a",
   "metadata": {},
   "outputs": [
    {
     "data": {
      "text/plain": [
       "True"
      ]
     },
     "execution_count": 9,
     "metadata": {},
     "output_type": "execute_result"
    }
   ],
   "source": [
    "# Save the point cloud with normals in ASCII format\n",
    "output_path = \"temp/ascii_ply.ply\"\n",
    "o3d.io.write_point_cloud(output_path, pcd, write_ascii=True)"
   ]
  },
  {
   "cell_type": "code",
   "execution_count": null,
   "id": "c7103a77-1433-4a38-93bc-5002bbe2223b",
   "metadata": {},
   "outputs": [],
   "source": [
    "# Define the path to your text file\n",
    "file_path = 'temp/ascii_ply.ply'\n",
    "\n",
    "# Initialize an empty list to hold the data\n",
    "data = []\n",
    "\n",
    "# Initialize a variable to track whether the endheader has been passed\n",
    "found_endheader = False\n",
    "\n",
    "# Read the file\n",
    "with open(file_path, 'r') as file:\n",
    "    for line in file:\n",
    "        if found_endheader:\n",
    "            # Process the line to create a row for the DataFrame\n",
    "            # Adjust the splitting based on your actual data format\n",
    "            row = line.strip().split()  # Splitting by comma for CSV format\n",
    "            data.append(row)\n",
    "        elif \"end_header\" in line:\n",
    "            found_endheader = True\n",
    "'''\n",
    "property double x\n",
    "property double y\n",
    "property double z\n",
    "property double nx\n",
    "property double ny\n",
    "property double nz\n",
    "property uchar red\n",
    "property uchar green\n",
    "property uchar blue\n",
    "'''\n",
    "df = pl.DataFrame(data, schema=['x', 'y', 'z', 'nx', 'ny', 'nz', 'red', 'green', 'blue'])  # Example column names\n",
    "\n",
    "# Display the DataFrame\n",
    "print(df)"
   ]
  },
  {
   "cell_type": "code",
   "execution_count": null,
   "id": "a926b282-4e7b-4a2c-9a4f-f6a5ada5564e",
   "metadata": {},
   "outputs": [],
   "source": [
    "# Apply the filtering conditions to keep rows that match and drop those that do not\n",
    "filtered_df = df.filter(\n",
    "    (df['nz'] >= 0.9) &\n",
    "    (df['nx'].gt(-0.2) & df['nx'].lt(0.2)) &  # Using .gt() and .lt() for greater than and less than\n",
    "    (df['ny'].gt(-0.2) & df['ny'].lt(0.2))\n",
    ")\n",
    "\n",
    "# Display the filtered DataFrame\n",
    "print(filtered_df)"
   ]
  },
  {
   "cell_type": "code",
   "execution_count": null,
   "id": "8f68e779-5ad2-4b8e-8b46-9ba31cbc8182",
   "metadata": {},
   "outputs": [],
   "source": []
  },
  {
   "cell_type": "code",
   "execution_count": null,
   "id": "f19aa303-5d32-48a9-be27-c29877a8b40a",
   "metadata": {},
   "outputs": [],
   "source": []
  }
 ],
 "metadata": {
  "kernelspec": {
   "display_name": "Python 3 (ipykernel)",
   "language": "python",
   "name": "python3"
  },
  "language_info": {
   "codemirror_mode": {
    "name": "ipython",
    "version": 3
   },
   "file_extension": ".py",
   "mimetype": "text/x-python",
   "name": "python",
   "nbconvert_exporter": "python",
   "pygments_lexer": "ipython3",
   "version": "3.11.7"
  }
 },
 "nbformat": 4,
 "nbformat_minor": 5
}
